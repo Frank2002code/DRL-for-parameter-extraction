{
 "cells": [
  {
   "cell_type": "markdown",
   "id": "fab2039c",
   "metadata": {},
   "source": [
    "## Import Library"
   ]
  },
  {
   "cell_type": "code",
   "execution_count": 9,
   "id": "7689cbcf",
   "metadata": {},
   "outputs": [],
   "source": [
    "import os\n",
    "import pprint\n",
    "\n",
    "import ray\n",
    "from ray.rllib.algorithms.ppo import PPOConfig\n",
    "\n",
    "from env.eehemt_env import EEHEMTEnv_Norm, tunable_params_config\n",
    "import torch as th"
   ]
  },
  {
   "cell_type": "markdown",
   "id": "df59ba34",
   "metadata": {},
   "source": [
    "## Define args"
   ]
  },
  {
   "cell_type": "code",
   "execution_count": 10,
   "id": "9441588c",
   "metadata": {},
   "outputs": [],
   "source": [
    "csv_file_path = (\n",
    "    \"/home/u5977862/DRL-on-parameter-extraction/data/S25E02A025WS_25C_GMVG.csv\"\n",
    ")\n",
    "va_file_path = \"/home/u5977862/DRL-on-parameter-extraction/eehemt/eehemt114_2.va\"\n",
    "test_modified = True\n",
    "n_iterations = 1"
   ]
  },
  {
   "cell_type": "code",
   "execution_count": 11,
   "id": "e91a8b1e",
   "metadata": {},
   "outputs": [
    {
     "name": "stdout",
     "output_type": "stream",
     "text": [
      "num_learners: 4\n",
      "num_gpus_per_learner: 1.0\n"
     ]
    }
   ],
   "source": [
    "if th.cuda.device_count() == 4:\n",
    "    num_learners = 4\n",
    "    num_gpus_per_learner = 1.0\n",
    "elif th.cuda.device_count == 2:\n",
    "    num_learners = 2\n",
    "    num_gpus_per_learner = 1.0\n",
    "print(f\"num_learners: {num_learners}\\nnum_gpus_per_learner: {num_gpus_per_learner}\")"
   ]
  },
  {
   "cell_type": "code",
   "execution_count": 12,
   "id": "68322240",
   "metadata": {},
   "outputs": [],
   "source": [
    "from ray.rllib.algorithms.algorithm import Algorithm\n",
    "from ray.rllib.env.env_runner_group import EnvRunnerGroup\n",
    "from ray.rllib.utils.typing import ResultDict\n",
    "\n",
    "\n",
    "def run_and_plot_evaluation(\n",
    "    algorithm: Algorithm, eval_workers: EnvRunnerGroup\n",
    ") -> ResultDict:\n",
    "    \"\"\"\n",
    "    Custom evaluation function that runs one episode, plots the I-V curve,\n",
    "    and returns final metrics.\n",
    "    \"\"\"\n",
    "    print(\"\\n--- Running final evaluation and plotting I-V curve... ---\")\n",
    "\n",
    "    # 1. Get the local evaluation worker, its environment, and the trained policy.\n",
    "    local_worker = eval_workers.local_worker()\n",
    "    env = local_worker.env\n",
    "    policy = algorithm.get_policy()\n",
    "\n",
    "    # 2. Run a single, deterministic episode to find the best parameters.\n",
    "    obs, info = env.reset()\n",
    "    terminated = truncated = False\n",
    "    total_reward = 0.0\n",
    "\n",
    "    while not terminated and not truncated:\n",
    "        action, _, _ = policy.compute_single_action(observation=obs, explore=False)\n",
    "        obs, reward, terminated, truncated, info = env.step(action)\n",
    "        total_reward += reward\n",
    "\n",
    "    print(\"Final evaluation episode finished.\")\n",
    "    print(f\"Final RMSPE: {info['current_rmspe']:.6f}\")\n",
    "    print(\"Final Tunable Parameters:\")\n",
    "    final_tunable_params = {\n",
    "        k: info[\"current_params\"][k] for k in tunable_params_config.keys()\n",
    "    }\n",
    "    pprint.pprint(final_tunable_params)\n",
    "\n",
    "    # 3. Plot the I-V curve using the environment's final state.\n",
    "    output_dir = os.path.join(os.getcwd(), \"results\")\n",
    "    os.makedirs(output_dir, exist_ok=True)\n",
    "    save_path = os.path.join(output_dir, \"final_iv_curve.png\")\n",
    "\n",
    "    env.plot_iv_curve(\n",
    "        plot_initial=True, plot_modified=True, plot_current=True, save_path=save_path\n",
    "    )\n",
    "\n",
    "    # 4. Return a dictionary of final metrics.\n",
    "    return {\n",
    "        \"final_episode_reward\": total_reward,\n",
    "        \"final_rmspe\": info[\"current_rmspe\"],\n",
    "    }\n"
   ]
  },
  {
   "cell_type": "code",
   "execution_count": 16,
   "id": "f79efcc0",
   "metadata": {},
   "outputs": [],
   "source": [
    "config = (\n",
    "    PPOConfig()\n",
    "    .environment(\n",
    "        EEHEMTEnv_Norm,\n",
    "        env_config={\n",
    "            \"csv_file_path\": csv_file_path,\n",
    "            \"tunable_params_config\": tunable_params_config,\n",
    "            \"va_file_path\": va_file_path,\n",
    "            \"test_modified\": test_modified,\n",
    "        },\n",
    "    )\n",
    "    .env_runners(\n",
    "        observation_filter=\"MeanStdFilter\",  # Z-score norm better than L2 norm.\n",
    "    )\n",
    "    .training(\n",
    "        train_batch_size_per_learner=128,\n",
    "        lr=0.0004,\n",
    "    )\n",
    "    .learners(\n",
    "        num_learners=num_learners,\n",
    "        num_gpus_per_learner=num_gpus_per_learner,\n",
    "    )\n",
    "    .framework(\"torch\")\n",
    "    .evaluation(\n",
    "        # We only need one evaluation worker for plotting\n",
    "        evaluation_num_env_runners=1,\n",
    "        # We will call `evaluate()` manually, so no interval is needed.\n",
    "        evaluation_interval=None,\n",
    "        # Point to our custom function\n",
    "        custom_evaluation_function=run_and_plot_evaluation,\n",
    "        # Ensure evaluation is deterministic\n",
    "        evaluation_config={\"explore\": False},\n",
    "    )\n",
    ")"
   ]
  },
  {
   "cell_type": "markdown",
   "id": "61fc7ec7",
   "metadata": {},
   "source": [
    "## Training"
   ]
  },
  {
   "cell_type": "code",
   "execution_count": null,
   "id": "23475b0b",
   "metadata": {},
   "outputs": [],
   "source": [
    "algo = config.build_algo()\n",
    "\n",
    "# Run the training loop\n",
    "for i in range(n_iterations):\n",
    "    results = algo.train()\n",
    "    print(f\"--- Iteration: {i + 1}/{n_iterations} ---\")\n",
    "    print(f\"Episode Reward Mean: {results['episode_reward_mean']:.4f}\")\n",
    "\n",
    "print(\"\\n--- Training completed. ---\")"
   ]
  },
  {
   "cell_type": "markdown",
   "id": "0e774322",
   "metadata": {},
   "source": [
    "## Evaluation"
   ]
  },
  {
   "cell_type": "code",
   "execution_count": null,
   "id": "3efee778",
   "metadata": {},
   "outputs": [],
   "source": [
    "final_results = algo.evaluate()\n",
    "print(\"\\n--- Custom evaluation results ---\")\n",
    "pprint.pprint(final_results)"
   ]
  },
  {
   "cell_type": "code",
   "execution_count": null,
   "id": "fd261aa3",
   "metadata": {},
   "outputs": [],
   "source": []
  }
 ],
 "metadata": {
  "kernelspec": {
   "display_name": "drl-on-parameter-extraction",
   "language": "python",
   "name": "python3"
  },
  "language_info": {
   "codemirror_mode": {
    "name": "ipython",
    "version": 3
   },
   "file_extension": ".py",
   "mimetype": "text/x-python",
   "name": "python",
   "nbconvert_exporter": "python",
   "pygments_lexer": "ipython3",
   "version": "3.12.11"
  }
 },
 "nbformat": 4,
 "nbformat_minor": 5
}
